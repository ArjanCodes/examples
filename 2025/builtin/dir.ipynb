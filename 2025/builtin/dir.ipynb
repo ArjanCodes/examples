{
 "cells": [
  {
   "cell_type": "code",
   "execution_count": null,
   "metadata": {},
   "outputs": [],
   "source": [
    "# Example\n",
    "a = 10\n",
    "b = 20\n",
    "\n",
    "print(dir()) "
   ]
  },
  {
   "cell_type": "code",
   "execution_count": null,
   "metadata": {},
   "outputs": [],
   "source": [
    "# dir with a custom class\n",
    "\n",
    "class Invoice:\n",
    "    def __init__(self, client: str, total: float):\n",
    "        self.client = client\n",
    "        self.total = total\n",
    "\n",
    "    def __str__(self):\n",
    "        return f\"Invoice from {self.client} for {self.total}\"\n",
    "\n",
    "print(dir(Invoice))\n"
   ]
  },
  {
   "cell_type": "code",
   "execution_count": null,
   "metadata": {},
   "outputs": [],
   "source": [
    "# dir with an instance of a class\n",
    "class Invoice:\n",
    "    def __init__(self, client: str, total: float):\n",
    "        self.client = client\n",
    "        self.total = total\n",
    "\n",
    "    def __str__(self):\n",
    "        return f\"Invoice from {self.client} for {self.total}\"\n",
    "    \n",
    "invoice_instance = Invoice(\"Alice\", 200.00)\n",
    "\n",
    "print(dir(invoice_instance))\n"
   ]
  },
  {
   "cell_type": "code",
   "execution_count": null,
   "metadata": {},
   "outputs": [],
   "source": [
    "# dir with a module\n",
    "\n",
    "import math\n",
    "\n",
    "print(dir(math))\n",
    "print(dir(\"math\"))\n"
   ]
  },
  {
   "cell_type": "code",
   "execution_count": null,
   "metadata": {},
   "outputs": [],
   "source": [
    "# dir with a list\n",
    "\n",
    "sample_list = [1, 2, 3]\n",
    "\n",
    "print(dir(sample_list))\n"
   ]
  },
  {
   "cell_type": "code",
   "execution_count": null,
   "metadata": {},
   "outputs": [],
   "source": [
    "# dir with a dictionary\n",
    "\n",
    "sample_dict: dict[str, str | int] = {\"key\": \"value\", \"number\": 42}\n",
    "\n",
    "print(dir(sample_dict))"
   ]
  },
  {
   "cell_type": "code",
   "execution_count": null,
   "metadata": {},
   "outputs": [],
   "source": [
    "# dir with a string\n",
    "\n",
    "sample_string = \"Hello, World!\"\n",
    "\n",
    "print(dir(sample_string))\n"
   ]
  },
  {
   "cell_type": "code",
   "execution_count": null,
   "metadata": {},
   "outputs": [],
   "source": [
    "# dir with a function\n",
    "\n",
    "def sample_function(x: int) -> int:\n",
    "    return x * 2\n",
    "\n",
    "print(dir(sample_function))\n"
   ]
  },
  {
   "cell_type": "code",
   "execution_count": null,
   "metadata": {},
   "outputs": [],
   "source": [
    "# dir on a built-in type\n",
    "\n",
    "print(dir(int))\n"
   ]
  },
  {
   "cell_type": "code",
   "execution_count": null,
   "metadata": {},
   "outputs": [],
   "source": [
    "# Check the directory of None\n",
    "\n",
    "print(dir(None))\n"
   ]
  },
  {
   "cell_type": "code",
   "execution_count": null,
   "metadata": {},
   "outputs": [],
   "source": [
    "class Person:\n",
    "    age: int\n",
    "    def __init__(self):\n",
    "        self.name = \"Python\"\n",
    "\n",
    "\n",
    "obj = Person()\n",
    "print(dir(obj))  # 'age' is not listed by dir() because it is not initialized yet\n"
   ]
  },
  {
   "cell_type": "code",
   "execution_count": null,
   "metadata": {},
   "outputs": [],
   "source": [
    "from collections.abc import Iterable\n",
    "\n",
    "\n",
    "class Person:\n",
    "    def __init__(self):\n",
    "        self._age = \"Hidden\"\n",
    "\n",
    "    def __dir__(self) -> Iterable[str]: # Overriding __dir__ method\n",
    "        return [\"name\"] \n",
    "\n",
    "person = Person()\n",
    "print(dir(person)) \n"
   ]
  },
  {
   "cell_type": "code",
   "execution_count": null,
   "metadata": {},
   "outputs": [],
   "source": [
    "print(dir(None))"
   ]
  },
  {
   "cell_type": "code",
   "execution_count": null,
   "metadata": {},
   "outputs": [],
   "source": [
    "class Person:\n",
    "    def __init__(self):\n",
    "        self.name = \"Arjan\"\n",
    "\n",
    "\n",
    "obj = Person()\n",
    "obj.age = 25\n",
    "print(dir(obj))\n"
   ]
  }
 ],
 "metadata": {
  "kernelspec": {
   "display_name": ".venv",
   "language": "python",
   "name": "python3"
  },
  "language_info": {
   "codemirror_mode": {
    "name": "ipython",
    "version": 3
   },
   "file_extension": ".py",
   "mimetype": "text/x-python",
   "name": "python",
   "nbconvert_exporter": "python",
   "pygments_lexer": "ipython3",
   "version": "3.13.0"
  }
 },
 "nbformat": 4,
 "nbformat_minor": 2
}

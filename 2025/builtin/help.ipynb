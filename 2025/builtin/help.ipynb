{
 "cells": [
  {
   "cell_type": "code",
   "execution_count": null,
   "metadata": {},
   "outputs": [],
   "source": [
    "# Help function\n",
    "\n",
    "from decimal import Decimal\n",
    "\n",
    "\n",
    "class Invoice:\n",
    "    def __init__(self, client: str, total: Decimal):\n",
    "        self.client = client\n",
    "        self.total = total\n",
    "\n",
    "    def __str__(self):\n",
    "        return f\"Invoice from {self.client} for {self.total}\"\n",
    "\n",
    "\n",
    "help(Invoice)"
   ]
  },
  {
   "cell_type": "code",
   "execution_count": null,
   "metadata": {},
   "outputs": [],
   "source": [
    "# Help function\n",
    "\n",
    "from dataclasses import dataclass\n",
    "from decimal import Decimal\n",
    "\n",
    "\n",
    "@dataclass\n",
    "class Invoice:\n",
    "    def __init__(self, client: str, total: Decimal):\n",
    "        self.client = client\n",
    "        self.total = total\n",
    "\n",
    "    def __str__(self):\n",
    "        return f\"Invoice from {self.client} for {self.total}\"\n",
    "\n",
    "\n",
    "help(Invoice)"
   ]
  },
  {
   "cell_type": "code",
   "execution_count": null,
   "metadata": {},
   "outputs": [],
   "source": [
    "NAME = \"John\"\n",
    "\n",
    "help(NAME)"
   ]
  },
  {
   "cell_type": "code",
   "execution_count": null,
   "metadata": {},
   "outputs": [],
   "source": [
    "help(None)"
   ]
  },
  {
   "cell_type": "code",
   "execution_count": null,
   "metadata": {},
   "outputs": [],
   "source": [
    "def pay_invoice(invoice: Invoice):\n",
    "    print(f\"Paying invoice {invoice}\")\n",
    "    return invoice\n",
    "\n",
    "\n",
    "help(pay_invoice(Invoice(\"John\", Decimal(\"100.00\"))))"
   ]
  },
  {
   "cell_type": "code",
   "execution_count": null,
   "metadata": {},
   "outputs": [],
   "source": [
    "help(\"builtin\")"
   ]
  },
  {
   "cell_type": "code",
   "execution_count": null,
   "metadata": {},
   "outputs": [],
   "source": [
    "help(help)"
   ]
  },
  {
   "cell_type": "code",
   "execution_count": null,
   "metadata": {},
   "outputs": [],
   "source": [
    "help([1, 2, 3])"
   ]
  }
 ],
 "metadata": {
  "kernelspec": {
   "display_name": ".venv",
   "language": "python",
   "name": "python3"
  },
  "language_info": {
   "codemirror_mode": {
    "name": "ipython",
    "version": 3
   },
   "file_extension": ".py",
   "mimetype": "text/x-python",
   "name": "python",
   "nbconvert_exporter": "python",
   "pygments_lexer": "ipython3",
   "version": "3.13.0"
  }
 },
 "nbformat": 4,
 "nbformat_minor": 2
}

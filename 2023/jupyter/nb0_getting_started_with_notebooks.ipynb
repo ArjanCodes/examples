{
 "cells": [
  {
   "cell_type": "markdown",
   "id": "d69cfa6a-04b4-493b-a7ea-2404786b84ec",
   "metadata": {},
   "source": [
    "# Introduction to Notebooks"
   ]
  },
  {
   "cell_type": "markdown",
   "id": "2d52837b-aae9-470d-96c4-f55249fc7394",
   "metadata": {},
   "source": [
    "This notebook did not appear in the video series, it is meant as a practical guide to help you write your own notebooks and naviagate around them."
   ]
  },
  {
   "cell_type": "markdown",
   "id": "b16716b2-c7a0-49cc-9058-ecc3a995d46f",
   "metadata": {},
   "source": [
    "In a Jupyter notebook, we have individual cells, which can be either code cells or markdown cells. \n",
    "\n",
    "The heading and this text are both examples of markdown cells.\n",
    "\n",
    "Let's have a code cell where we import some of the packages we would like to use:"
   ]
  },
  {
   "cell_type": "code",
   "execution_count": 1,
   "id": "db526094-a189-4d6f-a462-a21744a26f8c",
   "metadata": {
    "execution": {
     "iopub.execute_input": "2023-06-20T03:18:12.612940Z",
     "iopub.status.busy": "2023-06-20T03:18:12.612582Z",
     "iopub.status.idle": "2023-06-20T03:18:13.683516Z",
     "shell.execute_reply": "2023-06-20T03:18:13.682915Z",
     "shell.execute_reply.started": "2023-06-20T03:18:12.612909Z"
    },
    "tags": []
   },
   "outputs": [],
   "source": [
    "import seaborn as sns\n",
    "import matplotlib.pyplot as plt\n",
    "import random"
   ]
  },
  {
   "cell_type": "markdown",
   "id": "2f538a3d-e1ed-433f-87fe-18b8fc6e83cf",
   "metadata": {},
   "source": [
    "Now that the code has been imported, we can use it in future cells. The Python interpreter that runs in the background keeps track of all the different cells that have been run.\n",
    "\n",
    "This is similar to the Python REPL (Read-Evaluate-Print loop) that you might have used by typing `python` or `ipython` at the command line, or using a tool such as Spyder."
   ]
  },
  {
   "cell_type": "code",
   "execution_count": 2,
   "id": "6f0517e3-1629-4c7d-b465-6dab98a30729",
   "metadata": {
    "execution": {
     "iopub.execute_input": "2023-06-20T03:18:13.684216Z",
     "iopub.status.busy": "2023-06-20T03:18:13.684054Z",
     "iopub.status.idle": "2023-06-20T03:18:13.686737Z",
     "shell.execute_reply": "2023-06-20T03:18:13.686240Z",
     "shell.execute_reply.started": "2023-06-20T03:18:13.684207Z"
    },
    "tags": []
   },
   "outputs": [],
   "source": [
    "# This will get us in trouble later\n",
    "N_SIDES = 6"
   ]
  },
  {
   "cell_type": "code",
   "execution_count": 3,
   "id": "490cc071-4413-4706-962e-88dc26595768",
   "metadata": {
    "execution": {
     "iopub.execute_input": "2023-06-20T03:18:13.687747Z",
     "iopub.status.busy": "2023-06-20T03:18:13.687571Z",
     "iopub.status.idle": "2023-06-20T03:18:13.690797Z",
     "shell.execute_reply": "2023-06-20T03:18:13.690294Z",
     "shell.execute_reply.started": "2023-06-20T03:18:13.687735Z"
    },
    "tags": []
   },
   "outputs": [],
   "source": [
    "# We can now define a function in here, that can be used in future cells\n",
    "def roll_n_dice(n_dice: int) -> int:\n",
    "    \"\"\"Rolls N six-sided die and returns the total rolled\"\"\"\n",
    "    # Warning -- this will lead us into danger!\n",
    "    rolls = [random.randint(1, N_SIDES) for _ in range(n_dice)]\n",
    "    return sum(rolls)"
   ]
  },
  {
   "cell_type": "markdown",
   "id": "994c97e4-85cb-4358-a7a7-5a9f36d7fd59",
   "metadata": {},
   "source": [
    "### Printing in Jupyter notebooks"
   ]
  },
  {
   "cell_type": "code",
   "execution_count": 4,
   "id": "3e2c61f2-479d-49c0-a67c-2154b45b7324",
   "metadata": {
    "execution": {
     "iopub.execute_input": "2023-06-20T03:18:13.692899Z",
     "iopub.status.busy": "2023-06-20T03:18:13.692740Z",
     "iopub.status.idle": "2023-06-20T03:18:13.696737Z",
     "shell.execute_reply": "2023-06-20T03:18:13.696169Z",
     "shell.execute_reply.started": "2023-06-20T03:18:13.692889Z"
    },
    "tags": []
   },
   "outputs": [
    {
     "data": {
      "text/plain": [
       "8"
      ]
     },
     "execution_count": 4,
     "metadata": {},
     "output_type": "execute_result"
    }
   ],
   "source": [
    "# We can show the function from a previous cell is remembered.\n",
    "# Note that the last value in a cell is printed out, if it is not assigned to a variable\n",
    "roll_n_dice(2)"
   ]
  },
  {
   "cell_type": "code",
   "execution_count": 5,
   "id": "96e06c70-5a34-40a7-85e0-e748d706987b",
   "metadata": {
    "execution": {
     "iopub.execute_input": "2023-06-20T03:18:13.698198Z",
     "iopub.status.busy": "2023-06-20T03:18:13.698070Z",
     "iopub.status.idle": "2023-06-20T03:18:13.700367Z",
     "shell.execute_reply": "2023-06-20T03:18:13.700027Z",
     "shell.execute_reply.started": "2023-06-20T03:18:13.698187Z"
    },
    "tags": []
   },
   "outputs": [],
   "source": [
    "# If we want to supress this behaviour, we can add a semi-colon\n",
    "roll_n_dice(2);"
   ]
  },
  {
   "cell_type": "code",
   "execution_count": 6,
   "id": "e56ae1ba-971e-4a82-be5e-997dbd22b7b3",
   "metadata": {
    "execution": {
     "iopub.execute_input": "2023-06-20T03:18:13.701157Z",
     "iopub.status.busy": "2023-06-20T03:18:13.701054Z",
     "iopub.status.idle": "2023-06-20T03:18:13.717701Z",
     "shell.execute_reply": "2023-06-20T03:18:13.717038Z",
     "shell.execute_reply.started": "2023-06-20T03:18:13.701148Z"
    },
    "tags": []
   },
   "outputs": [],
   "source": [
    "# this won't print out, because the value is stored in a variable\n",
    "result_of_roll = roll_n_dice(2)"
   ]
  },
  {
   "cell_type": "code",
   "execution_count": 7,
   "id": "d50b9b76-7dd2-4d7b-9d0f-9f5758b7c3ea",
   "metadata": {
    "execution": {
     "iopub.execute_input": "2023-06-20T03:18:13.718624Z",
     "iopub.status.busy": "2023-06-20T03:18:13.718484Z",
     "iopub.status.idle": "2023-06-20T03:18:13.724279Z",
     "shell.execute_reply": "2023-06-20T03:18:13.722623Z",
     "shell.execute_reply.started": "2023-06-20T03:18:13.718614Z"
    },
    "tags": []
   },
   "outputs": [
    {
     "data": {
      "text/plain": [
       "4"
      ]
     },
     "execution_count": 7,
     "metadata": {},
     "output_type": "execute_result"
    }
   ],
   "source": [
    "# but we can \"evaluate\" the answer\n",
    "result_of_roll"
   ]
  },
  {
   "cell_type": "code",
   "execution_count": 8,
   "id": "1381ace7-82b8-4172-88a7-6abb964d9e2e",
   "metadata": {
    "execution": {
     "iopub.execute_input": "2023-06-20T03:18:13.725115Z",
     "iopub.status.busy": "2023-06-20T03:18:13.724994Z",
     "iopub.status.idle": "2023-06-20T03:18:13.730942Z",
     "shell.execute_reply": "2023-06-20T03:18:13.729722Z",
     "shell.execute_reply.started": "2023-06-20T03:18:13.725104Z"
    },
    "tags": []
   },
   "outputs": [
    {
     "name": "stdout",
     "output_type": "stream",
     "text": [
      "4\n"
     ]
    }
   ],
   "source": [
    "# or we can just print it, the way the programming gods intended\n",
    "print(result_of_roll)"
   ]
  },
  {
   "cell_type": "code",
   "execution_count": 9,
   "id": "4e767160-dca2-4ef5-8172-723ac596a5bf",
   "metadata": {
    "execution": {
     "iopub.execute_input": "2023-06-20T03:18:13.732960Z",
     "iopub.status.busy": "2023-06-20T03:18:13.732132Z",
     "iopub.status.idle": "2023-06-20T03:18:13.739649Z",
     "shell.execute_reply": "2023-06-20T03:18:13.738237Z",
     "shell.execute_reply.started": "2023-06-20T03:18:13.732943Z"
    },
    "tags": []
   },
   "outputs": [
    {
     "data": {
      "text/plain": [
       "4"
      ]
     },
     "execution_count": 9,
     "metadata": {},
     "output_type": "execute_result"
    }
   ],
   "source": [
    "# It is usually better to explicitly print, rather than rely on the odd behavior of the last  executed statement.\n",
    "# \"Explicit is better than implicit!\"\n",
    "# Note this is only printed once\n",
    "result_of_roll\n",
    "result_of_roll"
   ]
  },
  {
   "cell_type": "code",
   "execution_count": 10,
   "id": "5cb5e66b-27a9-4d0e-a5c6-015d971fa0a1",
   "metadata": {
    "execution": {
     "iopub.execute_input": "2023-06-20T03:18:13.740468Z",
     "iopub.status.busy": "2023-06-20T03:18:13.740327Z",
     "iopub.status.idle": "2023-06-20T03:18:13.745276Z",
     "shell.execute_reply": "2023-06-20T03:18:13.744392Z",
     "shell.execute_reply.started": "2023-06-20T03:18:13.740457Z"
    },
    "tags": []
   },
   "outputs": [
    {
     "name": "stdout",
     "output_type": "stream",
     "text": [
      "4\n",
      "4\n"
     ]
    }
   ],
   "source": [
    "# but by being explicit, it is easier to predict what we get from running a cell\n",
    "print(result_of_roll)\n",
    "print(result_of_roll)"
   ]
  },
  {
   "cell_type": "markdown",
   "id": "1807a894-79c4-45fe-b165-521dd10612e4",
   "metadata": {},
   "source": [
    "One of the things that Jupyter notebooks allow us to do really well is quickly visualize the result of our code. This example is a little bit contrived, but we can ask \"what are the most common number that occurs if you roll two dice?\"\n",
    "\n",
    "Of course, the avid Euro-gamers among you already know the answer is 7 =)"
   ]
  },
  {
   "cell_type": "code",
   "execution_count": 11,
   "id": "7cb6d9d4-2768-4574-8379-c0f8f1278be4",
   "metadata": {
    "execution": {
     "iopub.execute_input": "2023-06-20T03:18:13.746618Z",
     "iopub.status.busy": "2023-06-20T03:18:13.746296Z",
     "iopub.status.idle": "2023-06-20T03:18:13.877519Z",
     "shell.execute_reply": "2023-06-20T03:18:13.876997Z",
     "shell.execute_reply.started": "2023-06-20T03:18:13.746605Z"
    },
    "tags": []
   },
   "outputs": [
    {
     "data": {
      "image/png": "[encoded data removed]",
      "text/plain": [
       "<Figure size 640x480 with 1 Axes>"
      ]
     },
     "metadata": {},
     "output_type": "display_data"
    }
   ],
   "source": [
    "# simulate rolling many times \n",
    "many_rolls = [roll_n_dice(n_dice=2) for _ in range(10000)]\n",
    "sns.histplot(many_rolls, binwidth=1);  # we want the plot, which the function prints, but to ignore some noisey output"
   ]
  },
  {
   "cell_type": "markdown",
   "id": "300751cb-25ac-4d80-a1a3-62458e56ddf8",
   "metadata": {},
   "source": [
    "Let's suppose we were making a game of our own that is based on die rolls.\n",
    "\n",
    "We might be curious if rolling 20 6-sided die, and 6 20-sided die in terms of results of the rolls. Can we just swap them interchangably?"
   ]
  },
  {
   "cell_type": "code",
   "execution_count": 12,
   "id": "b22efe30-2711-4f3b-97f7-1413a996a039",
   "metadata": {
    "execution": {
     "iopub.execute_input": "2023-06-20T03:18:13.878425Z",
     "iopub.status.busy": "2023-06-20T03:18:13.878312Z",
     "iopub.status.idle": "2023-06-20T03:18:14.072914Z",
     "shell.execute_reply": "2023-06-20T03:18:14.072429Z",
     "shell.execute_reply.started": "2023-06-20T03:18:13.878415Z"
    },
    "tags": []
   },
   "outputs": [
    {
     "data": {
      "text/plain": [
       "<AxesSubplot:ylabel='Count'>"
      ]
     },
     "execution_count": 12,
     "metadata": {},
     "output_type": "execute_result"
    },
    {
     "data": {
      "image/png": "[encoded data removed]",
      "text/plain": [
       "<Figure size 640x480 with 1 Axes>"
      ]
     },
     "metadata": {},
     "output_type": "display_data"
    }
   ],
   "source": [
    "outcomes_roll_20_six_sided_dice = [\n",
    "    roll_n_dice(n_dice=20) for _ in range(10000)\n",
    "]\n",
    "sns.histplot(outcomes_roll_20_six_sided_dice, binwidth=1)"
   ]
  },
  {
   "cell_type": "code",
   "execution_count": 13,
   "id": "2d9b115f-02d0-42d1-837e-bb89342006e4",
   "metadata": {
    "execution": {
     "iopub.execute_input": "2023-06-20T03:18:14.078168Z",
     "iopub.status.busy": "2023-06-20T03:18:14.077748Z",
     "iopub.status.idle": "2023-06-20T03:18:14.232804Z",
     "shell.execute_reply": "2023-06-20T03:18:14.232155Z",
     "shell.execute_reply.started": "2023-06-20T03:18:14.078151Z"
    }
   },
   "outputs": [
    {
     "data": {
      "text/plain": [
       "<AxesSubplot:ylabel='Count'>"
      ]
     },
     "execution_count": 13,
     "metadata": {},
     "output_type": "execute_result"
    },
    {
     "data": {
      "image/png": "[encoded data removed]",
      "text/plain": [
       "<Figure size 640x480 with 1 Axes>"
      ]
     },
     "metadata": {},
     "output_type": "display_data"
    }
   ],
   "source": [
    "N_SIDES=20   # change to 20 sided dice\n",
    "\n",
    "outcomes_roll_6_twenty_sided_dice = [\n",
    "    roll_n_dice(n_dice=6) for _ in range(10000)\n",
    "]\n",
    "sns.histplot(outcomes_roll_6_twenty_sided_dice, binwidth=1)"
   ]
  },
  {
   "cell_type": "markdown",
   "id": "f8fc1da8-27f1-423c-85f1-d2055d2102cb",
   "metadata": {},
   "source": [
    "We can compare these on the same axis:"
   ]
  },
  {
   "cell_type": "code",
   "execution_count": 14,
   "id": "915bec4f-fdf7-42db-8531-242cf01b985f",
   "metadata": {
    "execution": {
     "iopub.execute_input": "2023-06-20T03:18:14.234268Z",
     "iopub.status.busy": "2023-06-20T03:18:14.233595Z",
     "iopub.status.idle": "2023-06-20T03:18:14.413520Z",
     "shell.execute_reply": "2023-06-20T03:18:14.413157Z",
     "shell.execute_reply.started": "2023-06-20T03:18:14.234255Z"
    },
    "tags": []
   },
   "outputs": [
    {
     "data": {
      "text/plain": [
       "<matplotlib.legend.Legend at 0x140b2d9a0>"
      ]
     },
     "execution_count": 14,
     "metadata": {},
     "output_type": "execute_result"
    },
    {
     "data": {
      "image/png": "[encoded data removed]",
      "text/plain": [
       "<Figure size 640x480 with 1 Axes>"
      ]
     },
     "metadata": {},
     "output_type": "display_data"
    }
   ],
   "source": [
    "sns.histplot(outcomes_roll_6_twenty_sided_dice, binwidth=1, label=\"6 twenty-sided dice\")\n",
    "sns.histplot(outcomes_roll_20_six_sided_dice, binwidth=1, label=\"20 six-sided dice\")\n",
    "plt.legend()"
   ]
  },
  {
   "cell_type": "markdown",
   "id": "4bbdf34c-2f5d-4954-af2d-3407acb23a49",
   "metadata": {},
   "source": [
    "It may have seemed reasonable that 6 twenty-sided dice were \"the same\" in terms of outcome, and just less annoying, than 20 six-sided dice but we see through simulation the results are actually quite different. Rolling more dice leads to a higher average and results that are less spread out. \n",
    "\n",
    "(Your statistics professor would probably tell you something about the central limit theorem .... whatever that is)"
   ]
  },
  {
   "cell_type": "markdown",
   "id": "963952d4-be6d-4759-a686-45517c031eaf",
   "metadata": {},
   "source": [
    "### Dangers!"
   ]
  },
  {
   "cell_type": "markdown",
   "id": "eda2c2a1-2541-40bf-ba19-ac8dc92a9f29",
   "metadata": {},
   "source": [
    "There is a significant problem with the code that we have.\n",
    "\n",
    "If you go back and re-run `In[4]`, you will actually be rolling 20-sided dice, even though reading the code from top-to-bottom you would assume that we were rolling 6-sided dice!\n",
    "\n",
    "Even worse, we can delete the cell `In[2]` and the code will still remember the variable `N_SIDES` exists and is currently 20. Everything will work until you reload the notebook, and you'll get q `N_SIDES` not defined.\n",
    "\n",
    "In part, this is a problem with using a global variable inside a function, instead of passing in the variable. A better way of writing our die rolling function would be"
   ]
  },
  {
   "cell_type": "code",
   "execution_count": 15,
   "id": "f0209f4e-751b-4c10-9d90-e9ed6100a2e0",
   "metadata": {
    "execution": {
     "iopub.execute_input": "2023-06-20T03:18:14.414223Z",
     "iopub.status.busy": "2023-06-20T03:18:14.414111Z",
     "iopub.status.idle": "2023-06-20T03:18:14.416593Z",
     "shell.execute_reply": "2023-06-20T03:18:14.416253Z",
     "shell.execute_reply.started": "2023-06-20T03:18:14.414213Z"
    }
   },
   "outputs": [],
   "source": [
    "def roll_n_dice(n_dice: int, n_sides: int=6) -> int:\n",
    "    \"\"\"Rolls n_dice dice, each die has n_sides, and returns the total\"\"\"\n",
    "    rolls = [random.randint(1, n_sides) for _ in range(n_dice)]\n",
    "    return sum(rolls)"
   ]
  },
  {
   "cell_type": "markdown",
   "id": "c15a7c49-959b-4c65-ab02-0dad8e15ce3c",
   "metadata": {},
   "source": [
    "As a benefit, our code is a lot more explicit when asking what the difference is:"
   ]
  },
  {
   "cell_type": "code",
   "execution_count": 16,
   "id": "5afb3a01-0fb2-4da6-b5eb-15553547fd9b",
   "metadata": {
    "execution": {
     "iopub.execute_input": "2023-06-20T03:18:14.417175Z",
     "iopub.status.busy": "2023-06-20T03:18:14.417077Z",
     "iopub.status.idle": "2023-06-20T03:18:14.728295Z",
     "shell.execute_reply": "2023-06-20T03:18:14.727676Z",
     "shell.execute_reply.started": "2023-06-20T03:18:14.417165Z"
    },
    "tags": []
   },
   "outputs": [
    {
     "data": {
      "image/png": "[encoded data removed]",
      "text/plain": [
       "<Figure size 640x480 with 1 Axes>"
      ]
     },
     "metadata": {},
     "output_type": "display_data"
    }
   ],
   "source": [
    "outcomes_roll_20_six_sided_dice = [\n",
    "    roll_n_dice(n_dice=20, n_sides=6) for _ in range(10000)\n",
    "]\n",
    "outcomes_roll_6_twenty_sided_dice = [\n",
    "    roll_n_dice(n_dice=6, n_sides=20) for _ in range(10000)\n",
    "]\n",
    "\n",
    "sns.histplot(outcomes_roll_6_twenty_sided_dice, binwidth=1, label=\"6 twenty-sided die\")\n",
    "sns.histplot(outcomes_roll_20_six_sided_dice, binwidth=1, label=\"20 six-sided die\")\n",
    "plt.legend();"
   ]
  },
  {
   "cell_type": "markdown",
   "id": "d318f18f-1530-4ba2-94b5-d625c6a08027",
   "metadata": {},
   "source": [
    "Great -- we made our code better.\n",
    "\n",
    "Better. **But it still has problems**\n",
    "\n",
    "If you go back to cell `In[13]` we change the global variable `N_SIDES=20` which -- when executing from top to bottom -- changed how many sides were used. Now we have redefined the function `roll_n_dice`, so it ignores `N_SIDES`. \n",
    "\n",
    "The function will now act differently.\n",
    "\n",
    "One way of \"fixing\" this would be to make `n_sides` not use a default argument at all, and then use partial function application to make a function specifically for rolling 6 sided dice. If we did this, re-running `In[13]` would have an error (because now `roll_n_dice` needs two arguments and we only gave it one). \n",
    "\n",
    "But getting an error at least alerts you that something changed. Rerunning cell `In[13]` now will give an answer, but it won't actually represent what it used to mean."
   ]
  },
  {
   "cell_type": "markdown",
   "id": "7ad03d5a-3fe6-42a7-9826-ef8c0e3ecd2c",
   "metadata": {},
   "source": [
    "### Biggest problem of Jupyter notebook"
   ]
  },
  {
   "cell_type": "markdown",
   "id": "c6c87679-ded1-4ffb-ac7f-4e2fd220788f",
   "metadata": {},
   "source": [
    "The biggest problem with Jupyter notebooks is that each cell changes the notebook's state. The code runs based on the current state of the notebook, which you cannot necessarily get from reading the code.\n",
    "\n",
    "For example, we might miss that we are using `plt.legend()` calls, and think almost all of the plotting is happening in seaborn. If we remove the line\n",
    "```\n",
    "import matplotlib.pyplot as plt\n",
    "```\n",
    "the code will run until we restart the notebook -- the notebook's STATE still has this module imported, even though this is no longer represented in the code. It won't be until we restart the notebook, or save it and send it to someone else to run, that this problem will be found.\n",
    "\n",
    "A suggestion is to use `Kernel > Restart Kernel and Run All` as a way of forcing the notebook to clear its state and run top-to-bottom, to check the notebook still runs."
   ]
  },
  {
   "cell_type": "markdown",
   "id": "dd2ebce1-bd97-46ab-bd79-b7c644921ab1",
   "metadata": {},
   "source": [
    "### Advantages"
   ]
  },
  {
   "cell_type": "markdown",
   "id": "0adda7fc-437a-40a8-8170-442ddc0d6cac",
   "metadata": {},
   "source": [
    "Notebooks do allow for iteration and rapid development. We will see more of this in the next notebook.\n",
    "\n",
    "They also allow us to embed what the results mean in with the results itself."
   ]
  },
  {
   "cell_type": "markdown",
   "id": "a589db63-663d-4e77-8521-27b7172bc339",
   "metadata": {},
   "source": [
    "The notebooks also keep track of the order of execution -- if we see the numbers out of order, or missing numbers, it is often a sign to take care, as we will have trouble reasoning about state (and it is safer to restart). \n",
    "\n",
    "There are a lot of convinience methods as well, such as the ability to recall the output from a previous cell. For example, we never stored the value from our first use of our roll function in cell `In[4]`. At least not explicitly -- Jupyter did it for us!"
   ]
  },
  {
   "cell_type": "code",
   "execution_count": 17,
   "id": "32a6c851-773d-45df-8dbf-9cc309c0b8b4",
   "metadata": {
    "execution": {
     "iopub.execute_input": "2023-06-20T03:18:14.729164Z",
     "iopub.status.busy": "2023-06-20T03:18:14.728856Z",
     "iopub.status.idle": "2023-06-20T03:18:14.732539Z",
     "shell.execute_reply": "2023-06-20T03:18:14.732101Z",
     "shell.execute_reply.started": "2023-06-20T03:18:14.729149Z"
    }
   },
   "outputs": [
    {
     "data": {
      "text/plain": [
       "8"
      ]
     },
     "execution_count": 17,
     "metadata": {},
     "output_type": "execute_result"
    }
   ],
   "source": [
    "Out[4]"
   ]
  },
  {
   "cell_type": "markdown",
   "id": "6c160862-301c-4fee-b24b-c6b0decae877",
   "metadata": {},
   "source": [
    "## Getting the best of both worlds"
   ]
  },
  {
   "cell_type": "markdown",
   "id": "9bea2153-804e-4801-918b-7eaef060d0f8",
   "metadata": {},
   "source": [
    "The notebook excels at presenting the results, as well as explanations. \n",
    "\n",
    "We can move most of the logic and detailed functions into standard python module, where we can apply linters and tests. Any global variables we introduce in the module will be confined to that module. We can still use those functions to do investigation and graphs in the notebook.\n",
    "\n",
    "Looking at the example above, we have moved the \"work\" into the file `dice.py` and can place the exploration into the notebook."
   ]
  },
  {
   "cell_type": "code",
   "execution_count": 18,
   "id": "d0768e5d-5459-490d-b9bf-ff6ac8e9b5fa",
   "metadata": {
    "execution": {
     "iopub.execute_input": "2023-06-20T03:18:14.733202Z",
     "iopub.status.busy": "2023-06-20T03:18:14.733108Z",
     "iopub.status.idle": "2023-06-20T03:18:15.045512Z",
     "shell.execute_reply": "2023-06-20T03:18:15.045063Z",
     "shell.execute_reply.started": "2023-06-20T03:18:14.733193Z"
    },
    "tags": []
   },
   "outputs": [
    {
     "data": {
      "image/png": "[encoded data removed]",
      "text/plain": [
       "<Figure size 640x480 with 1 Axes>"
      ]
     },
     "metadata": {},
     "output_type": "display_data"
    }
   ],
   "source": [
    "import dice\n",
    "\n",
    "outcomes_roll_20_six_sided_dice = [\n",
    "    dice.roll_n_d6(n_dice=20) for _ in range(10000)\n",
    "]\n",
    "outcomes_roll_6_twenty_sided_dice = [\n",
    "    dice.roll_n_dice(n_dice=6, n_sides=20) for _ in range(10000) # can also use dice.roll_n_d20, but showing we can be flexible in the notebook\n",
    "]\n",
    "\n",
    "sns.histplot(outcomes_roll_6_twenty_sided_dice, binwidth=1, label=\"6 twenty-sided die\")\n",
    "sns.histplot(outcomes_roll_20_six_sided_dice, binwidth=1, label=\"20 six-sided die\")\n",
    "plt.legend();"
   ]
  },
  {
   "cell_type": "markdown",
   "id": "d22f3ff3-2fd2-40f7-8d39-70f488253591",
   "metadata": {},
   "source": [
    "We can now make our observations about the output (e.g. mean is higher for the 20 d6s, and the outputs are more tightly clumped).\n",
    "\n",
    "This allows us to use notebooks for what they excel at -- mixing explanations, exploration, and visualizations -- while allowing us to continue using the same tools and software design principles for the functions and logic we are using."
   ]
  },
  {
   "cell_type": "code",
   "execution_count": null,
   "id": "6ca4508e-56d3-467e-b508-3925b8f0a21c",
   "metadata": {},
   "outputs": [],
   "source": []
  }
 ],
 "metadata": {
  "kernelspec": {
   "display_name": "Python 3 (ipykernel)",
   "language": "python",
   "name": "python3"
  },
  "language_info": {
   "codemirror_mode": {
    "name": "ipython",
    "version": 3
   },
   "file_extension": ".py",
   "mimetype": "text/x-python",
   "name": "python",
   "nbconvert_exporter": "python",
   "pygments_lexer": "ipython3",
   "version": "3.10.9"
  }
 },
 "nbformat": 4,
 "nbformat_minor": 5
}
